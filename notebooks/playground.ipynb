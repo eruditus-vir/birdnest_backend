{
 "cells": [
  {
   "cell_type": "code",
   "execution_count": 75,
   "outputs": [],
   "source": [
    "import xml.etree.ElementTree\n",
    "\n",
    "import pandas as pd\n",
    "import requests\n",
    "from xml.etree import ElementTree as ET\n",
    "import datetime\n",
    "import json\n",
    "from typing import List, Optional\n",
    "from dateutil import parser\n",
    "import urllib.parse as urlparse\n"
   ],
   "metadata": {
    "collapsed": false,
    "pycharm": {
     "name": "#%%\n"
    }
   }
  },
  {
   "cell_type": "code",
   "execution_count": 96,
   "outputs": [
    {
     "data": {
      "text/plain": "{'hello': 1, 'we': 2}"
     },
     "execution_count": 96,
     "metadata": {},
     "output_type": "execute_result"
    }
   ],
   "source": [
    "dict(hello=1, we=2)"
   ],
   "metadata": {
    "collapsed": false,
    "pycharm": {
     "name": "#%%\n"
    }
   }
  },
  {
   "cell_type": "code",
   "execution_count": 28,
   "outputs": [],
   "source": [
    "data = requests.get(\"https://assignments.reaktor.com/birdnest/drones\")"
   ],
   "metadata": {
    "collapsed": false,
    "pycharm": {
     "name": "#%%\n"
    }
   }
  },
  {
   "cell_type": "code",
   "execution_count": 34,
   "outputs": [
    {
     "name": "stdout",
     "output_type": "stream",
     "text": [
      "deviceInformation {'deviceId': 'GUARDB1RD'} <Element 'deviceInformation' at 0x12abb6900>\n",
      "capture {'snapshotTimestamp': '2023-01-14T19:08:21.549Z'} <Element 'capture' at 0x12abb62c0>\n"
     ]
    }
   ],
   "source": [
    "data = requests.get(\"https://assignments.reaktor.com/birdnest/drones\")\n",
    "root = ET.fromstring(data.content)\n",
    "for child in root:\n",
    "    print(child.tag, child.attrib, child)"
   ],
   "metadata": {
    "collapsed": false,
    "pycharm": {
     "name": "#%%\n"
    }
   }
  },
  {
   "cell_type": "code",
   "execution_count": 77,
   "outputs": [],
   "source": [
    "\"\"\"\n",
    "Data Fetcher and Data Parser Classes\n",
    "\"\"\"\n",
    "CENTER_X = 250000 # 250*1000\n",
    "CENTER_Y = 250000\n",
    "RADIUS = 100000\n",
    "\n",
    "\n",
    "class BadResponseFromUrlException(Exception):\n",
    "    \"\"\"\n",
    "    Exception raised from errors in any Data Query for this application\n",
    "    \"\"\"\n",
    "\n",
    "    def __init__(self, status_code, url):\n",
    "        self.status_code = status_code\n",
    "        self.url = url\n",
    "        super().__init__(\"Following URL returned bad status code\\nStatus Code: {}\\nURL used: {}\".format(status_code,\n",
    "                                                                                                        url))\n",
    "\n",
    "\n",
    "class ViolatedPilotInformation:\n",
    "    def __init__(self,\n",
    "                 pilot_id: str,\n",
    "                 first_name: str,\n",
    "                 last_name: str,\n",
    "                 phone_number: str,\n",
    "                 created_dt: datetime.datetime,\n",
    "                 email: str):\n",
    "        self.pilot_id = pilot_id\n",
    "        self.first_name = first_name\n",
    "        self.last_name = last_name\n",
    "        self.phone_number = phone_number\n",
    "        self.created_dt = created_dt\n",
    "        self.email = email\n",
    "\n",
    "    @classmethod\n",
    "    def from_dict(cls,\n",
    "                  data_dict: dict) -> 'ViolatedPilotInformation':\n",
    "        \"\"\"\n",
    "        Example of incoming\n",
    "        {'pilotId': 'P-7qxuJaBYUa',\n",
    "         'firstName': 'Roosevelt',\n",
    "         'lastName': 'Fadel',\n",
    "         'phoneNumber': '+210499153597',\n",
    "         'createdDt': '2023-01-11T07:25:09.230Z',\n",
    "         'email': 'roosevelt.fadel@example.com'}\n",
    "        :return:\n",
    "        \"\"\"\n",
    "        return ViolatedPilotInformation(\n",
    "            pilot_id=data_dict['pilotId'],\n",
    "            first_name=data_dict['firstName'],\n",
    "            last_name=data_dict['lastName'],\n",
    "            phone_number=data_dict['phoneNumber'],\n",
    "            created_dt=parser.parse(data_dict['createdDt']),\n",
    "            email=data_dict['email']\n",
    "        )\n",
    "\n",
    "\n",
    "class DroneInformation:\n",
    "    def __init__(self,\n",
    "                 serial_number: str,\n",
    "                 model: str,\n",
    "                 manufacturer: str,\n",
    "                 mac: str,\n",
    "                 ipv4: str,\n",
    "                 ipv6: str,\n",
    "                 firmware: str,\n",
    "                 position_x: float,\n",
    "                 position_y: float,\n",
    "                 altitude: float,\n",
    "                 snapshot_timestamp: datetime.datetime):\n",
    "        self.serial_number = serial_number\n",
    "        self.model = model\n",
    "        self.manufacturer = manufacturer\n",
    "        self.mac = mac\n",
    "        self.ipv4 = ipv4\n",
    "        self.ipv6 = ipv6\n",
    "        self.firmware = firmware\n",
    "        self.position_x = position_x\n",
    "        self.position_y = position_y\n",
    "        self.altitude = altitude\n",
    "        self.snapshot_timestamp = snapshot_timestamp\n",
    "        self.violated_ndz = self.is_violating_ndz(self.position_x, self.position_y)\n",
    "        self.pilot_information: Optional[ViolatedPilotInformation] = None\n",
    "\n",
    "    def set_pilot_information(self, pilot: ViolatedPilotInformation):\n",
    "        self.pilot_information = pilot\n",
    "\n",
    "    @staticmethod\n",
    "    def is_violating_ndz(x, y, center_x=CENTER_X, center_y=CENTER_Y, radius=RADIUS):\n",
    "        \"\"\"\n",
    "        static method top verify if the drone is violating the ndz.\n",
    "        the logic is simple, from origin position 250000, 250000\n",
    "        if location satisfy (x - center_x)² + (y - center_y)² <= radius²\n",
    "        we will return True, otherwise False\n",
    "        500000\n",
    "        :param x:\n",
    "        :param y:\n",
    "        :param center_x:\n",
    "        :param center_y:\n",
    "        :param radius:\n",
    "        :return:\n",
    "        \"\"\"\n",
    "        return (x - center_x) ** 2 + (y - center_y) ** 2 <= radius ** 2\n",
    "\n",
    "    @classmethod\n",
    "    def from_xml_node(cls, node: ET.Element, snapshot_timestamp: datetime.datetime) -> 'DroneInformation':\n",
    "        if node.tag != \"drone\":\n",
    "            raise Exception('Invalid Node: Given Node is not drone Node.')\n",
    "        data = {}\n",
    "        for child in node:\n",
    "            data[child.tag] = child.text\n",
    "        return DroneInformation(\n",
    "            serial_number=data['serialNumber'],\n",
    "            model=data['model'],\n",
    "            manufacturer=data['manufacturer'],\n",
    "            mac=data['mac'],\n",
    "            ipv4=data['ipv4'],\n",
    "            ipv6=data['ipv6'],\n",
    "            firmware=data['firmware'],\n",
    "            position_x=float(data['positionX']),\n",
    "            position_y=float(data['positionY']),\n",
    "            altitude=float(data['altitude']),\n",
    "            snapshot_timestamp=snapshot_timestamp\n",
    "        )\n",
    "\n",
    "\n",
    "class DroneCollection:\n",
    "    def __init__(self,\n",
    "                 drones: List[DroneInformation]):\n",
    "        self.drones = drones\n",
    "\n",
    "    @classmethod\n",
    "    def from_xml_node(cls, node: ET.Element) -> 'DroneCollection':\n",
    "        if node.tag != \"capture\":\n",
    "            raise Exception('Invalid Node: Given Node is not capture Node.')\n",
    "        data = {'snapshotTimestamp': node.attrib['snapshotTimestamp'],\n",
    "                'drones': []}\n",
    "        data['snapshotTimestamp'] = parser.parse(data['snapshotTimestamp'])\n",
    "        for child in node:\n",
    "            data['drones'].append(DroneInformation.from_xml_node(child, data['snapshotTimestamp']))\n",
    "        return DroneCollection(\n",
    "            drones=data['drones']\n",
    "        )\n",
    "\n",
    "\n",
    "class DeviceInformation:\n",
    "    def __init__(self,\n",
    "                 device_id: str,\n",
    "                 listen_range: int,\n",
    "                 device_started: datetime.datetime,\n",
    "                 update_interval_ms: int):\n",
    "        self.device_started = device_started\n",
    "        self.listen_range = listen_range\n",
    "        self.device_id = device_id\n",
    "        self.update_interval_ms = update_interval_ms\n",
    "\n",
    "    @classmethod\n",
    "    def from_xml_node(cls, node: ET.Element) -> 'DeviceInformation':\n",
    "        \"\"\"\n",
    "        class method to create Device Information Object from xml element with deviceInformation tag\n",
    "        :param node: xml etree element with deviceInformation\n",
    "        :return:\n",
    "        \"\"\"\n",
    "        if node.tag != \"deviceInformation\":\n",
    "            raise Exception('Invalid Node: Given Node is not deviceInformation Node.')\n",
    "        data = {'deviceId': node.attrib['deviceId']}\n",
    "        for child in node:\n",
    "            data[child.tag] = child.text\n",
    "        return DeviceInformation(\n",
    "            device_id=data['deviceId'],\n",
    "            listen_range=int(data['listenRange']),\n",
    "            device_started=parser.parse(data['deviceStarted']),\n",
    "            update_interval_ms=int(data['updateIntervalMs'])\n",
    "        )"
   ],
   "metadata": {
    "collapsed": false,
    "pycharm": {
     "name": "#%%\n"
    }
   }
  },
  {
   "cell_type": "code",
   "execution_count": 78,
   "outputs": [],
   "source": [
    "'''\n",
    "DataFetcher Class\n",
    "'''\n",
    "class DataFetcher:\n",
    "    def __init__(self,\n",
    "                 drone_url='https://assignments.reaktor.com/birdnest/drones',\n",
    "                 pilot_url='https://assignments.reaktor.com/birdnest/pilots/'):\n",
    "        response = requests.get(drone_url)\n",
    "        if 200 > response.status_code > 299:\n",
    "            raise BadResponseFromUrlException(response.status_code, drone_url)\n",
    "        root = ET.fromstring(response.content)\n",
    "        parsed_dict = {}\n",
    "        for child in root:\n",
    "            if child.tag == 'deviceInformation':\n",
    "                parsed_dict['deviceInformation'] = DeviceInformation.from_xml_node(child)\n",
    "            elif child.tag == 'capture':\n",
    "                parsed_dict['capture'] = DroneCollection.from_xml_node(child)\n",
    "        self.drone_url = drone_url\n",
    "        self.device_information = parsed_dict['deviceInformation']\n",
    "        self.drone_collection = parsed_dict['capture']\n",
    "        self.violated_pilot_data_fetcher = ViolatedPilotDataFetcher(pilot_url)\n",
    "        for drone in self.drone_collection.drones:\n",
    "            if drone.violated_ndz:\n",
    "                pilot = self.violated_pilot_data_fetcher.query_violated_pilot_data(drone)\n",
    "                drone.set_pilot_information(pilot)\n",
    "\n",
    "\n",
    "class ViolatedPilotDataFetcher:\n",
    "    def __init__(self, pilot_url='https://assignments.reaktor.com/birdnest/pilots/'):\n",
    "        self.pilot_url = pilot_url\n",
    "\n",
    "    def query_violated_pilot_data(self,\n",
    "                                  drone: DroneInformation) -> ViolatedPilotInformation:\n",
    "        query_url = self.pilot_url + drone.serial_number\n",
    "        response = requests.get(urlparse.urlparse(query_url).geturl())  # parse url for cleaning\n",
    "        if 200 > response.status_code > 299:\n",
    "            raise BadResponseFromUrlException(response.status_code, self.pilot_url)\n",
    "        result = json.loads(response.content)\n",
    "        return ViolatedPilotInformation.from_dict(result)"
   ],
   "metadata": {
    "collapsed": false,
    "pycharm": {
     "name": "#%%\n"
    }
   }
  },
  {
   "cell_type": "code",
   "execution_count": null,
   "outputs": [],
   "source": [
    "'''\n",
    "SQL alchemy send data out and update\n",
    "\n",
    "'''"
   ],
   "metadata": {
    "collapsed": false,
    "pycharm": {
     "name": "#%%\n"
    }
   }
  },
  {
   "cell_type": "code",
   "execution_count": 71,
   "outputs": [
    {
     "data": {
      "text/plain": "'Viewer Classes'"
     },
     "execution_count": 71,
     "metadata": {},
     "output_type": "execute_result"
    }
   ],
   "source": [
    "\"\"\"Viewer Classes\"\"\""
   ],
   "metadata": {
    "collapsed": false,
    "pycharm": {
     "name": "#%%\n"
    }
   }
  },
  {
   "cell_type": "code",
   "execution_count": 92,
   "outputs": [],
   "source": [
    "datafetcher = DataFetcher()"
   ],
   "metadata": {
    "collapsed": false,
    "pycharm": {
     "name": "#%%\n"
    }
   }
  },
  {
   "cell_type": "code",
   "execution_count": 95,
   "outputs": [
    {
     "name": "stdout",
     "output_type": "stream",
     "text": [
      "3\n",
      "SN-_hIr1kgkni True <__main__.ViolatedPilotInformation object at 0x13a0ebca0>\n",
      "P-_JSj-lgzfg Callie\n",
      "SN-VS7aaVjA26 False None\n",
      "SN-qNDGgeFVkh False None\n"
     ]
    }
   ],
   "source": [
    "print(len(datafetcher.drone_collection.drones))\n",
    "for drone in datafetcher.drone_collection.drones:\n",
    "    print(drone.serial_number, drone.violated_ndz, drone.pilot_information)\n",
    "    if drone.violated_ndz:\n",
    "        print(drone.pilot_information.pilot_id, drone.pilot_information.first_name)\n",
    "        print(drone.pilot_information.)"
   ],
   "metadata": {
    "collapsed": false,
    "pycharm": {
     "name": "#%%\n"
    }
   }
  },
  {
   "cell_type": "code",
   "execution_count": 99,
   "outputs": [
    {
     "data": {
      "text/plain": "True"
     },
     "execution_count": 99,
     "metadata": {},
     "output_type": "execute_result"
    }
   ],
   "source": [
    "import math\n",
    "\n",
    "math.sqrt((321500.69714086375-CENTER_X)**2 + (248687.5198673108-CENTER_Y)**2) < 100000"
   ],
   "metadata": {
    "collapsed": false,
    "pycharm": {
     "name": "#%%\n"
    }
   }
  },
  {
   "cell_type": "code",
   "execution_count": 99,
   "outputs": [],
   "source": [],
   "metadata": {
    "collapsed": false,
    "pycharm": {
     "name": "#%%\n"
    }
   }
  },
  {
   "cell_type": "code",
   "execution_count": 54,
   "outputs": [
    {
     "data": {
      "text/plain": "'SN-xnZhawf0eK'"
     },
     "execution_count": 54,
     "metadata": {},
     "output_type": "execute_result"
    }
   ],
   "source": [
    "datafetcher.drone_collection.drones[0].serial_number"
   ],
   "metadata": {
    "collapsed": false,
    "pycharm": {
     "name": "#%%\n"
    }
   }
  },
  {
   "cell_type": "code",
   "execution_count": 59,
   "outputs": [
    {
     "data": {
      "text/plain": "{'pilotId': 'P-7qxuJaBYUa',\n 'firstName': 'Roosevelt',\n 'lastName': 'Fadel',\n 'phoneNumber': '+210499153597',\n 'createdDt': '2023-01-11T07:25:09.230Z',\n 'email': 'roosevelt.fadel@example.com'}"
     },
     "execution_count": 59,
     "metadata": {},
     "output_type": "execute_result"
    }
   ],
   "source": [
    "data = requests.get(\"https://assignments.reaktor.com/birdnest/pilots/SN-xnZhawf0eK\")\n",
    "json.loads(data.content)"
   ],
   "metadata": {
    "collapsed": false,
    "pycharm": {
     "name": "#%%\n"
    }
   }
  },
  {
   "cell_type": "code",
   "execution_count": 57,
   "outputs": [
    {
     "data": {
      "text/plain": "b'{\"pilotId\":\"P-7qxuJaBYUa\",\"firstName\":\"Roosevelt\",\"lastName\":\"Fadel\",\"phoneNumber\":\"+210499153597\",\"createdDt\":\"2023-01-11T07:25:09.230Z\",\"email\":\"roosevelt.fadel@example.com\"}'"
     },
     "execution_count": 57,
     "metadata": {},
     "output_type": "execute_result"
    }
   ],
   "source": [
    "data.content"
   ],
   "metadata": {
    "collapsed": false,
    "pycharm": {
     "name": "#%%\n"
    }
   }
  },
  {
   "cell_type": "code",
   "execution_count": 27,
   "outputs": [],
   "source": [
    "tree.get('report')"
   ],
   "metadata": {
    "collapsed": false,
    "pycharm": {
     "name": "#%%\n"
    }
   }
  },
  {
   "cell_type": "code",
   "execution_count": 20,
   "outputs": [
    {
     "data": {
      "text/plain": "    deviceId  listenRange             deviceStarted  uptimeSeconds  \\\n0  GUARDB1RD     500000.0  2023-01-14T16:54:41.057Z         7888.0   \n1       None          NaN                      None            NaN   \n\n   updateIntervalMs         snapshotTimestamp  drone  \n0            2000.0                      None    NaN  \n1               NaN  2023-01-14T19:06:09.445Z    NaN  ",
      "text/html": "<div>\n<style scoped>\n    .dataframe tbody tr th:only-of-type {\n        vertical-align: middle;\n    }\n\n    .dataframe tbody tr th {\n        vertical-align: top;\n    }\n\n    .dataframe thead th {\n        text-align: right;\n    }\n</style>\n<table border=\"1\" class=\"dataframe\">\n  <thead>\n    <tr style=\"text-align: right;\">\n      <th></th>\n      <th>deviceId</th>\n      <th>listenRange</th>\n      <th>deviceStarted</th>\n      <th>uptimeSeconds</th>\n      <th>updateIntervalMs</th>\n      <th>snapshotTimestamp</th>\n      <th>drone</th>\n    </tr>\n  </thead>\n  <tbody>\n    <tr>\n      <th>0</th>\n      <td>GUARDB1RD</td>\n      <td>500000.0</td>\n      <td>2023-01-14T16:54:41.057Z</td>\n      <td>7888.0</td>\n      <td>2000.0</td>\n      <td>None</td>\n      <td>NaN</td>\n    </tr>\n    <tr>\n      <th>1</th>\n      <td>None</td>\n      <td>NaN</td>\n      <td>None</td>\n      <td>NaN</td>\n      <td>NaN</td>\n      <td>2023-01-14T19:06:09.445Z</td>\n      <td>NaN</td>\n    </tr>\n  </tbody>\n</table>\n</div>"
     },
     "execution_count": 20,
     "metadata": {},
     "output_type": "execute_result"
    }
   ],
   "source": [
    "pd.read_xml(data.content)"
   ],
   "metadata": {
    "collapsed": false,
    "pycharm": {
     "name": "#%%\n"
    }
   }
  },
  {
   "cell_type": "code",
   "execution_count": 29,
   "outputs": [
    {
     "name": "stdout",
     "output_type": "stream",
     "text": [
      "b'<?xml version=\"1.0\" encoding=\"UTF-8\"?>\\n<report>\\n  <deviceInformation deviceId=\"GUARDB1RD\">\\n    <listenRange>500000</listenRange>\\n    <deviceStarted>2023-01-14T16:54:41.057Z</deviceStarted>\\n    <uptimeSeconds>8021</uptimeSeconds>\\n    <updateIntervalMs>2000</updateIntervalMs>\\n  </deviceInformation>\\n  <capture snapshotTimestamp=\"2023-01-14T19:08:21.549Z\">\\n    <drone>\\n      <serialNumber>SN-OCHqp2E4Aj</serialNumber>\\n      <model>Mosquito</model>\\n      <manufacturer>MegaBuzzer Corp</manufacturer>\\n      <mac>82:e6:4e:65:85:a7</mac>\\n      <ipv4>146.249.207.86</ipv4>\\n      <ipv6>b360:671a:e339:1b03:a16e:d162:a27a:5370</ipv6>\\n      <firmware>9.0.9</firmware>\\n      <positionY>241087.73231406466</positionY>\\n      <positionX>10712.865762471618</positionX>\\n      <altitude>4246.835465187369</altitude>\\n    </drone>\\n    <drone>\\n      <serialNumber>SN-NzGYw1YoGy</serialNumber>\\n      <model>Altitude X</model>\\n      <manufacturer>DroneGoat Inc</manufacturer>\\n      <mac>da:ea:7d:eb:9a:bf</mac>\\n      <ipv4>231.208.124.119</ipv4>\\n      <ipv6>047b:64b9:e058:8991:0e36:6c06:2abe:9f46</ipv6>\\n      <firmware>1.3.1</firmware>\\n      <positionY>479174.5346643458</positionY>\\n      <positionX>188309.78316364062</positionX>\\n      <altitude>4458.978927775652</altitude>\\n    </drone>\\n    <drone>\\n      <serialNumber>SN-5u3jq0LO2m</serialNumber>\\n      <model>HRP-DRP 1 Pro</model>\\n      <manufacturer>ProDr\\xc3\\xb6ne Ltd</manufacturer>\\n      <mac>7d:80:0b:52:b0:1d</mac>\\n      <ipv4>110.214.52.0</ipv4>\\n      <ipv6>1cfc:b12d:49bc:a0e5:6f1a:4f4d:268c:1b87</ipv6>\\n      <firmware>9.8.6</firmware>\\n      <positionY>392095.0061449058</positionY>\\n      <positionX>227879.70302854344</positionX>\\n      <altitude>4647.536572771772</altitude>\\n    </drone>\\n    <drone>\\n      <serialNumber>SN-BQFf8kBFIy</serialNumber>\\n      <model>Altitude X</model>\\n      <manufacturer>DroneGoat Inc</manufacturer>\\n      <mac>9f:6b:49:1c:ff:f2</mac>\\n      <ipv4>216.76.128.6</ipv4>\\n      <ipv6>3ed7:d633:30e8:c0e5:3b5f:9fa9:9566:4655</ipv6>\\n      <firmware>7.6.0</firmware>\\n      <positionY>120623.35103239316</positionY>\\n      <positionX>89050.90132854789</positionX>\\n      <altitude>4645.232542609698</altitude>\\n    </drone>\\n  </capture>\\n</report>'\n"
     ]
    }
   ],
   "source": [
    "print(data.content)"
   ],
   "metadata": {
    "collapsed": false,
    "pycharm": {
     "name": "#%%\n"
    }
   }
  },
  {
   "cell_type": "code",
   "execution_count": null,
   "outputs": [],
   "source": [],
   "metadata": {
    "collapsed": false,
    "pycharm": {
     "name": "#%%\n"
    }
   }
  }
 ],
 "metadata": {
  "kernelspec": {
   "display_name": "Python 3",
   "language": "python",
   "name": "python3"
  },
  "language_info": {
   "codemirror_mode": {
    "name": "ipython",
    "version": 2
   },
   "file_extension": ".py",
   "mimetype": "text/x-python",
   "name": "python",
   "nbconvert_exporter": "python",
   "pygments_lexer": "ipython2",
   "version": "2.7.6"
  }
 },
 "nbformat": 4,
 "nbformat_minor": 0
}